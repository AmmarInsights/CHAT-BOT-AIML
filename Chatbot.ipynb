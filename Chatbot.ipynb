{
  "cells": [
    {
      "cell_type": "markdown",
      "metadata": {
        "id": "view-in-github",
        "colab_type": "text"
      },
      "source": [
        "<a href=\"https://colab.research.google.com/github/AmmarInsights/CHAT-BOT-AIML/blob/main/Chatbot.ipynb\" target=\"_parent\"><img src=\"https://colab.research.google.com/assets/colab-badge.svg\" alt=\"Open In Colab\"/></a>"
      ]
    },
    {
      "cell_type": "code",
      "execution_count": null,
      "metadata": {
        "colab": {
          "base_uri": "https://localhost:8080/"
        },
        "id": "qj-F4IZF3QlT",
        "outputId": "145e8f47-589d-49e5-eed9-91c4201b95c3"
      },
      "outputs": [
        {
          "output_type": "stream",
          "name": "stdout",
          "text": [
            "Collecting python.aiml\n",
            "  Downloading python-aiml-0.9.3.zip (2.1 MB)\n",
            "\u001b[2K     \u001b[90m━━━━━━━━━━━━━━━━━━━━━━━━━━━━━━━━━━━━━━━━\u001b[0m \u001b[32m2.1/2.1 MB\u001b[0m \u001b[31m11.2 MB/s\u001b[0m eta \u001b[36m0:00:00\u001b[0m\n",
            "\u001b[?25h  Preparing metadata (setup.py) ... \u001b[?25l\u001b[?25hdone\n",
            "Requirement already satisfied: setuptools in /usr/local/lib/python3.11/dist-packages (from python.aiml) (75.1.0)\n",
            "Building wheels for collected packages: python.aiml\n",
            "  Building wheel for python.aiml (setup.py) ... \u001b[?25l\u001b[?25hdone\n",
            "  Created wheel for python.aiml: filename=python_aiml-0.9.3-py3-none-any.whl size=2122486 sha256=e1a4b77e9c8280620702b7d6c4edc3fb28ed5095e8bdb30d61f3b6e6e37d4c82\n",
            "  Stored in directory: /root/.cache/pip/wheels/de/c3/2d/d1b50ad20fde9a9741b27fb7816c0e67d4254048a6c592a84e\n",
            "Successfully built python.aiml\n",
            "Installing collected packages: python.aiml\n",
            "Successfully installed python.aiml-0.9.3\n",
            "Requirement already satisfied: nltk in /usr/local/lib/python3.11/dist-packages (3.9.1)\n",
            "Requirement already satisfied: click in /usr/local/lib/python3.11/dist-packages (from nltk) (8.1.8)\n",
            "Requirement already satisfied: joblib in /usr/local/lib/python3.11/dist-packages (from nltk) (1.4.2)\n",
            "Requirement already satisfied: regex>=2021.8.3 in /usr/local/lib/python3.11/dist-packages (from nltk) (2024.11.6)\n",
            "Requirement already satisfied: tqdm in /usr/local/lib/python3.11/dist-packages (from nltk) (4.67.1)\n"
          ]
        }
      ],
      "source": [
        "!pip install python.aiml\n",
        "!pip install nltk"
      ]
    },
    {
      "cell_type": "code",
      "execution_count": null,
      "metadata": {
        "id": "OsTGJS704a0J"
      },
      "outputs": [],
      "source": [
        "from aiml import Kernel\n",
        "from glob import glob"
      ]
    },
    {
      "cell_type": "code",
      "execution_count": null,
      "metadata": {
        "id": "UJcxjehNW1aF"
      },
      "outputs": [],
      "source": [
        "bot = Kernel()"
      ]
    },
    {
      "cell_type": "code",
      "execution_count": null,
      "metadata": {
        "id": "0iQEFLG9W6DS"
      },
      "outputs": [],
      "source": [
        "aiml_files = [\"/content/practice.aiml\"]\n",
        "for file in aiml_files:\n",
        "    bot.learn(file)"
      ]
    },
    {
      "cell_type": "code",
      "execution_count": null,
      "metadata": {
        "colab": {
          "base_uri": "https://localhost:8080/"
        },
        "id": "Dsj0IwM1uAPa",
        "outputId": "6e30b086-e9b4-4448-fe44-30b93133e7fc"
      },
      "outputs": [
        {
          "name": "stdout",
          "output_type": "stream",
          "text": [
            "User : hey\n"
          ]
        },
        {
          "output_type": "stream",
          "name": "stderr",
          "text": [
            "WARNING: No match found for input: hey\n"
          ]
        },
        {
          "output_type": "stream",
          "name": "stdout",
          "text": [
            "bot:  \n"
          ]
        }
      ],
      "source": [
        "while True:\n",
        "  query = input(\"User : \")\n",
        "  response = bot.respond(query)\n",
        "  print(\"bot: \",response)"
      ]
    },
    {
      "cell_type": "code",
      "execution_count": null,
      "metadata": {
        "id": "-occnOOYiVu8",
        "colab": {
          "base_uri": "https://localhost:8080/"
        },
        "outputId": "60622b1f-6b17-4d0a-b4cb-c79b88c835a1"
      },
      "outputs": [
        {
          "output_type": "stream",
          "name": "stdout",
          "text": [
            "Collecting neo4j\n",
            "  Downloading neo4j-5.28.1-py3-none-any.whl.metadata (5.9 kB)\n",
            "Requirement already satisfied: pytz in /usr/local/lib/python3.11/dist-packages (from neo4j) (2025.2)\n",
            "Downloading neo4j-5.28.1-py3-none-any.whl (312 kB)\n",
            "\u001b[?25l   \u001b[90m━━━━━━━━━━━━━━━━━━━━━━━━━━━━━━━━━━━━━━━━\u001b[0m \u001b[32m0.0/312.3 kB\u001b[0m \u001b[31m?\u001b[0m eta \u001b[36m-:--:--\u001b[0m\r\u001b[2K   \u001b[90m━━━━━━━━━━━━━━━━━━━━━━━━━━━━━━━━━━━━━━━━\u001b[0m \u001b[32m312.3/312.3 kB\u001b[0m \u001b[31m14.5 MB/s\u001b[0m eta \u001b[36m0:00:00\u001b[0m\n",
            "\u001b[?25hInstalling collected packages: neo4j\n",
            "Successfully installed neo4j-5.28.1\n"
          ]
        },
        {
          "output_type": "stream",
          "name": "stderr",
          "text": [
            "[nltk_data] Downloading package wordnet to /root/nltk_data...\n",
            "[nltk_data] Downloading package omw-1.4 to /root/nltk_data...\n"
          ]
        },
        {
          "output_type": "stream",
          "name": "stdout",
          "text": [
            "Collecting python-aiml\n",
            "  Downloading python-aiml-0.9.3.zip (2.1 MB)\n",
            "\u001b[?25l     \u001b[90m━━━━━━━━━━━━━━━━━━━━━━━━━━━━━━━━━━━━━━━━\u001b[0m \u001b[32m0.0/2.1 MB\u001b[0m \u001b[31m?\u001b[0m eta \u001b[36m-:--:--\u001b[0m\r\u001b[2K     \u001b[91m━━━━━━━━━━━━━━━━━━━━━━━━━━━━━━━━━━━━━━━\u001b[0m\u001b[91m╸\u001b[0m \u001b[32m2.1/2.1 MB\u001b[0m \u001b[31m104.9 MB/s\u001b[0m eta \u001b[36m0:00:01\u001b[0m\r\u001b[2K     \u001b[90m━━━━━━━━━━━━━━━━━━━━━━━━━━━━━━━━━━━━━━━━\u001b[0m \u001b[32m2.1/2.1 MB\u001b[0m \u001b[31m52.2 MB/s\u001b[0m eta \u001b[36m0:00:00\u001b[0m\n",
            "\u001b[?25h  Preparing metadata (setup.py) ... \u001b[?25l\u001b[?25hdone\n",
            "Requirement already satisfied: setuptools in /usr/local/lib/python3.11/dist-packages (from python-aiml) (75.2.0)\n",
            "Building wheels for collected packages: python-aiml\n",
            "  Building wheel for python-aiml (setup.py) ... \u001b[?25l\u001b[?25hdone\n",
            "  Created wheel for python-aiml: filename=python_aiml-0.9.3-py3-none-any.whl size=2122485 sha256=a7248214ef634fd457ee2c3fd4fb4441bec654ccce88659fec7615c9c03873cd\n",
            "  Stored in directory: /root/.cache/pip/wheels/de/c3/2d/d1b50ad20fde9a9741b27fb7816c0e67d4254048a6c592a84e\n",
            "Successfully built python-aiml\n",
            "Installing collected packages: python-aiml\n",
            "Successfully installed python-aiml-0.9.3\n",
            "AIML files loaded successfully.\n",
            "User: hey\n",
            "Synonyms for your input:\n"
          ]
        },
        {
          "output_type": "stream",
          "name": "stderr",
          "text": [
            "WARNING: No match found for input: hey\n"
          ]
        },
        {
          "output_type": "stream",
          "name": "stdout",
          "text": [
            "hey: set()\n",
            "Bot: I'm sorry, I don't understand that. Could you try rephrasing?\n"
          ]
        }
      ],
      "source": [
        "\n",
        "# Import necessary libraries\n",
        "import nltk\n",
        "from nltk.corpus import wordnet\n",
        "import re\n",
        "!pip install neo4j\n",
        "# Ensure the required resources are downloaded\n",
        "nltk.download('wordnet', force=True)\n",
        "nltk.download('omw-1.4', force=True)\n",
        "\n",
        "# Try importing the aiml library\n",
        "try:\n",
        "    from aiml import Kernel\n",
        "except ModuleNotFoundError:\n",
        "    !pip install python-aiml\n",
        "    from aiml import Kernel\n",
        "    from neo4j import GraphDatabase\n",
        "\n",
        "# Function to get synonyms using WordNet\n",
        "def get_synonyms(word):\n",
        "    synonyms = set()\n",
        "    for syn in wordnet.synsets(word):\n",
        "        for lemma in syn.lemmas():\n",
        "            synonyms.add(lemma.name())\n",
        "    return synonyms\n",
        "\n",
        "# Function to preprocess user input\n",
        "def preprocess_input(input_text):\n",
        "    # Tokenize using regex to split words\n",
        "    tokens = re.findall(r'\\b\\w+\\b', input_text.lower())\n",
        "    return \" \".join(tokens)\n",
        "\n",
        "# Initialize the AIML Kernel\n",
        "bot = Kernel()\n",
        "\n",
        "# Load AIML files\n",
        "aiml_files = [\"//content/practice.aiml\"]  # Update this path to your AIML file\n",
        "for file in aiml_files:\n",
        "    bot.learn(file)\n",
        "\n",
        "print(\"AIML files loaded successfully.\")\n",
        "\n",
        "# Start the chatbot loop\n",
        "while True:\n",
        "    try:\n",
        "        # Get user input\n",
        "        query = input(\"User: \")\n",
        "\n",
        "        # Preprocess the input\n",
        "        processed_query = preprocess_input(query)\n",
        "\n",
        "        # Get synonyms for key words in the input (optional enhancement)\n",
        "        tokens = processed_query.split()\n",
        "        print(\"Synonyms for your input:\")\n",
        "        for token in tokens:\n",
        "            print(f\"{token}: {get_synonyms(token)}\")\n",
        "\n",
        "        # Get the bot's response\n",
        "        response = bot.respond(processed_query)\n",
        "\n",
        "        # If no match found, provide a fallback response\n",
        "        if not response.strip():\n",
        "            response = \"I'm sorry, I don't understand that. Could you try rephrasing?\"\n",
        "\n",
        "        print(f\"Bot: {response}\")\n",
        "\n",
        "    except KeyboardInterrupt:\n",
        "        print(\"\\nChatbot session ended.\")\n",
        "        break\n"
      ]
    },
    {
      "cell_type": "code",
      "source": [],
      "metadata": {
        "id": "ZUSDdgczijR0"
      },
      "execution_count": null,
      "outputs": []
    }
  ],
  "metadata": {
    "colab": {
      "provenance": [],
      "include_colab_link": true
    },
    "kernelspec": {
      "display_name": "Python 3",
      "name": "python3"
    },
    "language_info": {
      "name": "python"
    }
  },
  "nbformat": 4,
  "nbformat_minor": 0
}